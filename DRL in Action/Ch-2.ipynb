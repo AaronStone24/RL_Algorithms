{
 "metadata": {
  "language_info": {
   "codemirror_mode": {
    "name": "ipython",
    "version": 3
   },
   "file_extension": ".py",
   "mimetype": "text/x-python",
   "name": "python",
   "nbconvert_exporter": "python",
   "pygments_lexer": "ipython3",
   "version": "3.9.5"
  },
  "orig_nbformat": 2,
  "kernelspec": {
   "name": "python395jvsc74a57bd0778e3b255f25e50a8a1b823551f2d5dab066c0fe2cbf4ee2230ecf668bb4eba5",
   "display_name": "Python 3.9.5 64-bit"
  }
 },
 "nbformat": 4,
 "nbformat_minor": 2,
 "cells": [
  {
   "source": [
    "Finds the best action according to the current estimate of the value function"
   ],
   "cell_type": "markdown",
   "metadata": {}
  },
  {
   "source": [
    "def get_best_action(actions):\n",
    "    best_action = 0\n",
    "    max_action_value = 0\n",
    "    for action in actions:\n",
    "        action_value = get_action_value(action)\n",
    "        if action_value > max_action_value:\n",
    "            max_action_value = action_value\n",
    "            best_action = action\n",
    "    return best_action"
   ],
   "cell_type": "code",
   "metadata": {},
   "execution_count": null,
   "outputs": []
  },
  {
   "cell_type": "code",
   "execution_count": null,
   "metadata": {},
   "outputs": [],
   "source": [
    "import numpy as np\n",
    "from scipy import stats\n",
    "import random\n",
    "import matplotlib.pyplot as plt\n",
    "\n",
    "n = 10\n",
    "probs = "
   ]
  }
 ]
}